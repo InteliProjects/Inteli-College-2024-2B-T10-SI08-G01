{
 "cells": [
  {
   "cell_type": "code",
   "execution_count": null,
   "id": "5dfd153b-59d8-4a09-a646-398741c179cb",
   "metadata": {},
   "outputs": [],
   "source": []
  }
 ],
 "metadata": {
  "kernelspec": {
   "display_name": "",
   "name": ""
  },
  "language_info": {
   "name": ""
  }
 },
 "nbformat": 4,
 "nbformat_minor": 5
}
